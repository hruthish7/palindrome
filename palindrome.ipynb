{
  "nbformat": 4,
  "nbformat_minor": 0,
  "metadata": {
    "colab": {
      "provenance": [],
      "authorship_tag": "ABX9TyO4aps66siPnFVWBAQ5kK28",
      "include_colab_link": true
    },
    "kernelspec": {
      "name": "python3",
      "display_name": "Python 3"
    },
    "language_info": {
      "name": "python"
    }
  },
  "cells": [
    {
      "cell_type": "markdown",
      "metadata": {
        "id": "view-in-github",
        "colab_type": "text"
      },
      "source": [
        "<a href=\"https://colab.research.google.com/github/hruthish7/palindrome/blob/main/palindrome.ipynb\" target=\"_parent\"><img src=\"https://colab.research.google.com/assets/colab-badge.svg\" alt=\"Open In Colab\"/></a>"
      ]
    },
    {
      "cell_type": "code",
      "execution_count": null,
      "metadata": {
        "colab": {
          "base_uri": "https://localhost:8080/"
        },
        "id": "KemzI8n_WWs2",
        "outputId": "e6bd063f-b41e-4f88-a89a-cdd2658bbb4c"
      },
      "outputs": [
        {
          "output_type": "stream",
          "name": "stdout",
          "text": [
            "enter a word: banana\n",
            "ananab\n",
            "the word is not a palindrome\n"
          ]
        }
      ],
      "source": [
        "X = input(\"enter a word: \")\n",
        "y = X[::-1]\n",
        "print(y)\n",
        "if X == y:\n",
        "    print(\"the word is a palindrome\")\n",
        "else:\n",
        "    print(\"the word is not a palindrome\")"
      ]
    }
  ]
}